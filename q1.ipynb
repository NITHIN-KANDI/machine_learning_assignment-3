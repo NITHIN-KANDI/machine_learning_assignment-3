{
 "cells": [
  {
   "cell_type": "code",
   "execution_count": 24,
   "metadata": {},
   "outputs": [
    {
     "name": "stdout",
     "output_type": "stream",
     "text": [
      "['Purchase data', 'IRCTC Stock Price']\n",
      "['Candies (#)', 20, 16, 27, 19, 24, 22, 15, 18, 21, 16]\n"
     ]
    }
   ],
   "source": [
    "import openpyxl\n",
    "path=\"C:\\\\SEM_4\\\\MACHINE-LEARNING\\\\Assignment_3\\\\Lab Session1 Data.xlsx\"\n",
    "data=openpyxl.load_workbook(filename=path)\n",
    "print(data.sheetnames)\n",
    "data=data[\"Purchase data\"]\n",
    "\n",
    "list1=[]\n",
    "for cell in data[\"B\"]:\n",
    "    if cell.row!=1:\n",
    "        list1.append(cell.value)\n",
    "\n",
    "    \n",
    "print(list1)\n"
   ]
  }
 ],
 "metadata": {
  "kernelspec": {
   "display_name": "Python 3",
   "language": "python",
   "name": "python3"
  },
  "language_info": {
   "codemirror_mode": {
    "name": "ipython",
    "version": 3
   },
   "file_extension": ".py",
   "mimetype": "text/x-python",
   "name": "python",
   "nbconvert_exporter": "python",
   "pygments_lexer": "ipython3",
   "version": "3.12.1"
  }
 },
 "nbformat": 4,
 "nbformat_minor": 2
}
